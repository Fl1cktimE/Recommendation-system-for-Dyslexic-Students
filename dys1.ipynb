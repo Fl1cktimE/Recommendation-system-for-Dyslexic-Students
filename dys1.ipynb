{
 "cells": [
  {
   "cell_type": "code",
   "execution_count": 47,
   "metadata": {},
   "outputs": [],
   "source": [
    "import numpy as np # used for handling numbers\n",
    "import pandas as pd # used for handling the dataset\n",
    "from sklearn.impute import SimpleImputer # used for handling missing data\n",
    "from sklearn.preprocessing import LabelEncoder, OneHotEncoder # used for encoding categorical data\n",
    "from sklearn.model_selection import train_test_split # used for splitting training and testing data\n",
    "from sklearn.preprocessing import StandardScaler # used for feature scaling\n",
    "from sklearn.preprocessing import Normalizer # used for feature scaling"
   ]
  },
  {
   "cell_type": "code",
   "execution_count": 48,
   "metadata": {},
   "outputs": [
    {
     "name": "stdout",
     "output_type": "stream",
     "text": [
      "['Student 1' 65 31 20 44 27 45 15 247 62.53164557]\n",
      "Medium\n"
     ]
    }
   ],
   "source": [
    "df = pd.read_csv('learn.csv')\n",
    "dataset = df.dropna()\n",
    "x = dataset.iloc[:,0:10].values#independent\n",
    "y = dataset.iloc[:,-1].values#dependent\n",
    "#y1 = dataset.iloc[:,-1].values#dependent2\n",
    "print(x[0])\n",
    "print(y[0])\n",
    "#print(y1[1])"
   ]
  },
  {
   "cell_type": "code",
   "execution_count": 49,
   "metadata": {},
   "outputs": [
    {
     "name": "stdout",
     "output_type": "stream",
     "text": [
      "[[0 65 31 20 44 27 45 15 247 62.53164557]\n",
      " [11 50 51 32 50 27 39 21 270 68.35443038]\n",
      " [22 49 35 32 36 35 27 15 229 57.97468354]\n",
      " [33 39 39 38 38 23 33 11 221 55.94936709]\n",
      " [44 47 43 44 54 45 25 19 277 70.12658228]\n",
      " [46 73 43 32 50 35 43 19 295 74.6835443]\n",
      " [47 53 37 30 38 33 33 17 241 61.01265823]\n",
      " [48 55 39 26 48 43 37 21 269 68.10126582]\n",
      " [49 31 53 38 22 21 23 15 203 51.39240506]\n",
      " [1 55 37 38 46 27 25 21 249 63.03797468]\n",
      " [2 51 53 34 44 41 23 13 259 65.56962025]\n",
      " [3 49 49 36 36 19 14 13 216 54.6835443]\n",
      " [4 29 43 20 18 17 15 11 153 38.73417722]\n",
      " [5 41 42 26 42 33 21 11 216 54.6835443]\n",
      " [6 23 33 14 22 15 15 5 127 32.15189873]\n",
      " [7 65 31 20 44 27 21 15 223 56.4556962]\n",
      " [8 26 35 20 20 21 17 11 150 37.97468354]\n",
      " [9 45 45 30 42 33 15 5 215 54.43037975]\n",
      " [10 48 45 30 23 33 29 13 221 55.94936709]\n",
      " [12 41 47 24 50 29 31 11 233 58.98734177]\n",
      " [13 39 35 32 42 32 20 15 215 54.43037975]\n",
      " [14 53 39 29 24 25 33 27 230 58.2278481]\n",
      " [15 43 47 32 38 33 34 29 256 64.81012658]\n",
      " [16 45 49 30 42 40 29 11 246 62.27848101]\n",
      " [17 25 32 25 37 41 20 9 189 47.84810127]\n",
      " [18 15 26 14 20 13 13 7 108 27.34177215]\n",
      " [19 17 19 14 20 13 11 11 105 26.58227848]\n",
      " [20 53 49 32 42 41 37 15 269 68.10126582]\n",
      " [21 59 59 33 48 45 31 19 294 74.43037975]\n",
      " [23 65 51 18 46 42 37 11 270 68.35443038]\n",
      " [24 62 53 34 50 35 25 15 274 69.36708861]\n",
      " [25 51 56 38 48 39 31 13 276 69.87341772]\n",
      " [26 63 57 38 58 39 35 21 311 78.73417722]\n",
      " [27 31 27 14 22 15 13 9 131 33.16455696]\n",
      " [28 29 39 22 15 15 15 13 148 37.46835443]\n",
      " [29 18 24 18 18 15 17 9 119 30.12658228]\n",
      " [30 65 51 40 58 39 39 17 309 78.2278481]\n",
      " [31 49 49 32 58 41 35 21 285 72.15189873]\n",
      " [32 21 43 16 15 19 13 9 136 34.43037975]\n",
      " [34 23 21 13 25 18 17 7 124 31.39240506]\n",
      " [35 15 29 14 19 11 9 8 105 26.58227848]\n",
      " [36 55 53 36 54 39 31 19 287 72.65822785]\n",
      " [37 25 27 18 24 20 15 11 140 35.44303797]\n",
      " [38 17 23 24 22 21 17 9 133 33.67088608]\n",
      " [39 31 29 26 22 25 27 11 171 43.29113924]\n",
      " [40 27 31 20 32 13 21 13 157 39.74683544]\n",
      " [41 35 27 22 26 15 13 11 149 37.72151899]\n",
      " [42 27 39 22 36 31 21 9 185 46.83544304]\n",
      " [43 29 33 28 20 21 25 13 169 42.78481013]\n",
      " [45 33 31 28 24 25 27 19 187 47.34177215]]\n"
     ]
    }
   ],
   "source": [
    "#encoding independent\n",
    "labelencoder_x = LabelEncoder()\n",
    "x[:, 0] = labelencoder_x.fit_transform(x[:, 0])\n",
    "print(x)\n",
    "#print(np.unique(x[:,0]))"
   ]
  },
  {
   "cell_type": "code",
   "execution_count": 50,
   "metadata": {},
   "outputs": [
    {
     "name": "stdout",
     "output_type": "stream",
     "text": [
      "[1.0 0.0 0.0 0.0 0.0 0.0 0.0 0.0 0.0 0.0 0.0 0.0 0.0 0.0 0.0 0.0 0.0 0.0\n",
      " 0.0 0.0 0.0 0.0 0.0 0.0 0.0 0.0 0.0 0.0 0.0 0.0 0.0 0.0 0.0 0.0 0.0 0.0\n",
      " 0.0 0.0 0.0 0.0 0.0 0.0 0.0 0.0 0.0 0.0 0.0 0.0 0.0 0.0 65 31 20 44 27 45\n",
      " 15 247 62.53164557]\n"
     ]
    },
    {
     "name": "stderr",
     "output_type": "stream",
     "text": [
      "C:\\Users\\Dell\\AppData\\Roaming\\Python\\Python39\\site-packages\\sklearn\\preprocessing\\_encoders.py:828: FutureWarning: `sparse` was renamed to `sparse_output` in version 1.2 and will be removed in 1.4. `sparse_output` is ignored unless you leave `sparse` to its default value.\n",
      "  warnings.warn(\n"
     ]
    }
   ],
   "source": [
    "#dummyencoding\n",
    "from sklearn.compose import ColumnTransformer\n",
    "ct = ColumnTransformer(transformers=[('encoder', OneHotEncoder(sparse=False), [0])], remainder='passthrough')\n",
    "x = np.array(ct.fit_transform(x))\n",
    "print(x[0])\n"
   ]
  },
  {
   "cell_type": "code",
   "execution_count": 51,
   "metadata": {},
   "outputs": [
    {
     "name": "stdout",
     "output_type": "stream",
     "text": [
      "[2 0 2 2 1 2 2 0 1 0 0 2 2 2 1 2 2 2 2 2 2 2 0 2 1 1 1 0 2 0 0 0 0 1 2 1 0\n",
      " 1 1 1 1 1 2 1 0 2 2 1 0 1]\n"
     ]
    }
   ],
   "source": [
    "labelencoder_y = LabelEncoder()\n",
    "y = labelencoder_y.fit_transform(y)\n",
    "print(y)"
   ]
  },
  {
   "cell_type": "code",
   "execution_count": 52,
   "metadata": {},
   "outputs": [
    {
     "name": "stdout",
     "output_type": "stream",
     "text": [
      "[[0.0 0.0 0.0 ... 21 311 78.73417722]\n",
      " [0.0 0.0 0.0 ... 7 124 31.39240506]\n",
      " [0.0 0.0 0.0 ... 27 230 58.2278481]\n",
      " ...\n",
      " [0.0 0.0 0.0 ... 11 153 38.73417722]\n",
      " [0.0 0.0 0.0 ... 9 133 33.67088608]\n",
      " [0.0 0.0 0.0 ... 21 285 72.15189873]]\n"
     ]
    }
   ],
   "source": [
    "#dependent1\n",
    "x_train, x_test, y_train, y_test = train_test_split(x, y, test_size = 0.2, random_state = 1)\n",
    "print(x_train)"
   ]
  },
  {
   "cell_type": "code",
   "execution_count": 53,
   "metadata": {},
   "outputs": [
    {
     "name": "stdout",
     "output_type": "stream",
     "text": [
      "[[0.0 0.0 0.0 0.0 0.0 0.0 0.0 0.0 0.0 0.0 0.0 0.0 0.0 0.0 0.0 0.0 0.0 0.0\n",
      "  0.0 0.0 1.0 0.0 0.0 0.0 0.0 0.0 0.0 0.0 0.0 0.0 0.0 0.0 0.0 0.0 0.0 0.0\n",
      "  0.0 0.0 0.0 0.0 0.0 0.0 0.0 0.0 0.0 0.0 0.0 0.0 0.0 0.0 53 49 32 42 41\n",
      "  37 15 269 68.10126582]\n",
      " [0.0 0.0 0.0 0.0 0.0 0.0 0.0 0.0 0.0 0.0 0.0 0.0 0.0 0.0 0.0 0.0 0.0 0.0\n",
      "  0.0 0.0 0.0 0.0 0.0 0.0 0.0 0.0 0.0 0.0 0.0 1.0 0.0 0.0 0.0 0.0 0.0 0.0\n",
      "  0.0 0.0 0.0 0.0 0.0 0.0 0.0 0.0 0.0 0.0 0.0 0.0 0.0 0.0 18 24 18 18 15\n",
      "  17 9 119 30.12658228]\n",
      " [0.0 0.0 0.0 0.0 0.0 0.0 0.0 0.0 0.0 0.0 0.0 0.0 0.0 0.0 0.0 0.0 0.0 0.0\n",
      "  0.0 0.0 0.0 0.0 0.0 0.0 0.0 0.0 0.0 0.0 0.0 0.0 0.0 0.0 0.0 0.0 0.0 1.0\n",
      "  0.0 0.0 0.0 0.0 0.0 0.0 0.0 0.0 0.0 0.0 0.0 0.0 0.0 0.0 15 29 14 19 11\n",
      "  9 8 105 26.58227848]\n",
      " [0.0 0.0 0.0 0.0 0.0 0.0 0.0 0.0 0.0 0.0 0.0 0.0 0.0 0.0 0.0 0.0 0.0 0.0\n",
      "  0.0 0.0 0.0 0.0 0.0 0.0 0.0 0.0 0.0 0.0 0.0 0.0 0.0 0.0 1.0 0.0 0.0 0.0\n",
      "  0.0 0.0 0.0 0.0 0.0 0.0 0.0 0.0 0.0 0.0 0.0 0.0 0.0 0.0 21 43 16 15 19\n",
      "  13 9 136 34.43037975]\n",
      " [0.0 0.0 0.0 0.0 0.0 0.0 0.0 0.0 0.0 0.0 0.0 0.0 0.0 0.0 0.0 0.0 0.0 0.0\n",
      "  0.0 0.0 0.0 0.0 1.0 0.0 0.0 0.0 0.0 0.0 0.0 0.0 0.0 0.0 0.0 0.0 0.0 0.0\n",
      "  0.0 0.0 0.0 0.0 0.0 0.0 0.0 0.0 0.0 0.0 0.0 0.0 0.0 0.0 49 35 32 36 35\n",
      "  27 15 229 57.97468354]\n",
      " [0.0 0.0 0.0 0.0 0.0 0.0 0.0 0.0 0.0 0.0 0.0 0.0 0.0 0.0 0.0 0.0 0.0 0.0\n",
      "  0.0 0.0 0.0 0.0 0.0 0.0 0.0 0.0 0.0 0.0 0.0 0.0 0.0 0.0 0.0 1.0 0.0 0.0\n",
      "  0.0 0.0 0.0 0.0 0.0 0.0 0.0 0.0 0.0 0.0 0.0 0.0 0.0 0.0 39 39 38 38 23\n",
      "  33 11 221 55.94936709]\n",
      " [0.0 0.0 0.0 0.0 0.0 0.0 0.0 0.0 0.0 0.0 0.0 0.0 0.0 0.0 0.0 0.0 0.0 0.0\n",
      "  0.0 0.0 0.0 0.0 0.0 0.0 0.0 0.0 0.0 0.0 0.0 0.0 0.0 0.0 0.0 0.0 0.0 0.0\n",
      "  0.0 0.0 0.0 0.0 0.0 0.0 0.0 1.0 0.0 0.0 0.0 0.0 0.0 0.0 29 33 28 20 21\n",
      "  25 13 169 42.78481013]\n",
      " [0.0 0.0 0.0 0.0 0.0 0.0 0.0 0.0 0.0 0.0 0.0 0.0 0.0 0.0 0.0 0.0 0.0 0.0\n",
      "  0.0 0.0 0.0 0.0 0.0 1.0 0.0 0.0 0.0 0.0 0.0 0.0 0.0 0.0 0.0 0.0 0.0 0.0\n",
      "  0.0 0.0 0.0 0.0 0.0 0.0 0.0 0.0 0.0 0.0 0.0 0.0 0.0 0.0 65 51 18 46 42\n",
      "  37 11 270 68.35443038]\n",
      " [0.0 0.0 0.0 0.0 0.0 0.0 0.0 0.0 0.0 0.0 0.0 0.0 0.0 0.0 0.0 0.0 0.0 0.0\n",
      "  0.0 0.0 0.0 0.0 0.0 0.0 0.0 0.0 0.0 0.0 0.0 0.0 0.0 0.0 0.0 0.0 0.0 0.0\n",
      "  0.0 0.0 0.0 0.0 0.0 1.0 0.0 0.0 0.0 0.0 0.0 0.0 0.0 0.0 35 27 22 26 15\n",
      "  13 11 149 37.72151899]\n",
      " [0.0 0.0 0.0 0.0 0.0 0.0 0.0 0.0 0.0 0.0 0.0 0.0 0.0 0.0 0.0 0.0 0.0 0.0\n",
      "  0.0 0.0 0.0 0.0 0.0 0.0 0.0 1.0 0.0 0.0 0.0 0.0 0.0 0.0 0.0 0.0 0.0 0.0\n",
      "  0.0 0.0 0.0 0.0 0.0 0.0 0.0 0.0 0.0 0.0 0.0 0.0 0.0 0.0 51 56 38 48 39\n",
      "  31 13 276 69.87341772]]\n"
     ]
    }
   ],
   "source": [
    "print(x_test)"
   ]
  },
  {
   "cell_type": "code",
   "execution_count": 54,
   "metadata": {},
   "outputs": [
    {
     "name": "stdout",
     "output_type": "stream",
     "text": [
      "[0 1 2 0 2 2 1 1 0 2 1 2 2 1 2 1 1 1 0 0 2 0 2 2 2 1 2 0 1 0 2 2 2 2 2 0 1\n",
      " 2 1 1]\n"
     ]
    }
   ],
   "source": [
    "print(y_train)"
   ]
  },
  {
   "cell_type": "code",
   "execution_count": 55,
   "metadata": {},
   "outputs": [
    {
     "name": "stdout",
     "output_type": "stream",
     "text": [
      "[0 1 1 1 2 2 0 0 2 0]\n"
     ]
    }
   ],
   "source": [
    "print(y_test)"
   ]
  },
  {
   "cell_type": "code",
   "execution_count": 56,
   "metadata": {},
   "outputs": [
    {
     "name": "stdout",
     "output_type": "stream",
     "text": [
      "[-0.16012815 -0.16012815 -0.16012815 -0.16012815 -0.16012815 -0.16012815\n",
      " -0.16012815 -0.16012815 -0.16012815 -0.16012815 -0.16012815 -0.16012815\n",
      " -0.16012815 -0.16012815 -0.16012815 -0.16012815 -0.16012815 -0.16012815\n",
      " -0.16012815 -0.16012815  1.         -0.16012815  0.          0.\n",
      " -0.16012815  0.         -0.16012815 -0.16012815 -0.16012815  0.\n",
      " -0.16012815 -0.16012815  0.          0.         -0.16012815  0.\n",
      " -0.16012815 -0.16012815 -0.16012815 -0.16012815 -0.16012815  0.\n",
      " -0.16012815  0.         -0.16012815 -0.16012815 -0.16012815 -0.16012815\n",
      " -0.16012815 -0.16012815  0.71272469  0.89075833  0.59450522  0.4125384\n",
      "  1.2759795   1.33415714  0.09975709  0.92966812  0.92966812]\n"
     ]
    }
   ],
   "source": [
    "sc = StandardScaler()\n",
    "x_train_standard = sc.fit_transform(x_train)\n",
    "x_test_standard = sc.transform(x_test)\n",
    "print(x_test_standard[0])"
   ]
  },
  {
   "cell_type": "code",
   "execution_count": 57,
   "metadata": {},
   "outputs": [
    {
     "name": "stdout",
     "output_type": "stream",
     "text": [
      "[[-0.16012815 -0.16012815 -0.16012815 ...  1.18801621  1.63606452\n",
      "   1.63606452]\n",
      " [-0.16012815 -0.16012815 -0.16012815 ... -1.35125508 -1.50908136\n",
      "  -1.50908136]\n",
      " [-0.16012815 -0.16012815 -0.16012815 ...  2.27627533  0.2737286\n",
      "   0.2737286 ]\n",
      " ...\n",
      " [-0.16012815 -0.16012815 -0.16012815 ... -0.625749   -1.02133146\n",
      "  -1.02133146]\n",
      " [-0.16012815 -0.16012815 -0.16012815 ... -0.98850204 -1.3577107\n",
      "  -1.3577107 ]\n",
      " [-0.16012815 -0.16012815 -0.16012815 ...  1.18801621  1.19877151\n",
      "   1.19877151]]\n"
     ]
    }
   ],
   "source": [
    "print(x_train_standard)"
   ]
  },
  {
   "attachments": {},
   "cell_type": "markdown",
   "metadata": {},
   "source": [
    "Decisiontreeclassifier"
   ]
  },
  {
   "cell_type": "code",
   "execution_count": 58,
   "metadata": {},
   "outputs": [
    {
     "name": "stdout",
     "output_type": "stream",
     "text": [
      "Best hyperparameters: {'criterion': 'gini', 'max_depth': 7, 'min_samples_leaf': 3, 'min_samples_split': 8}\n"
     ]
    },
    {
     "data": {
      "text/html": [
       "<style>#sk-container-id-3 {color: black;background-color: white;}#sk-container-id-3 pre{padding: 0;}#sk-container-id-3 div.sk-toggleable {background-color: white;}#sk-container-id-3 label.sk-toggleable__label {cursor: pointer;display: block;width: 100%;margin-bottom: 0;padding: 0.3em;box-sizing: border-box;text-align: center;}#sk-container-id-3 label.sk-toggleable__label-arrow:before {content: \"▸\";float: left;margin-right: 0.25em;color: #696969;}#sk-container-id-3 label.sk-toggleable__label-arrow:hover:before {color: black;}#sk-container-id-3 div.sk-estimator:hover label.sk-toggleable__label-arrow:before {color: black;}#sk-container-id-3 div.sk-toggleable__content {max-height: 0;max-width: 0;overflow: hidden;text-align: left;background-color: #f0f8ff;}#sk-container-id-3 div.sk-toggleable__content pre {margin: 0.2em;color: black;border-radius: 0.25em;background-color: #f0f8ff;}#sk-container-id-3 input.sk-toggleable__control:checked~div.sk-toggleable__content {max-height: 200px;max-width: 100%;overflow: auto;}#sk-container-id-3 input.sk-toggleable__control:checked~label.sk-toggleable__label-arrow:before {content: \"▾\";}#sk-container-id-3 div.sk-estimator input.sk-toggleable__control:checked~label.sk-toggleable__label {background-color: #d4ebff;}#sk-container-id-3 div.sk-label input.sk-toggleable__control:checked~label.sk-toggleable__label {background-color: #d4ebff;}#sk-container-id-3 input.sk-hidden--visually {border: 0;clip: rect(1px 1px 1px 1px);clip: rect(1px, 1px, 1px, 1px);height: 1px;margin: -1px;overflow: hidden;padding: 0;position: absolute;width: 1px;}#sk-container-id-3 div.sk-estimator {font-family: monospace;background-color: #f0f8ff;border: 1px dotted black;border-radius: 0.25em;box-sizing: border-box;margin-bottom: 0.5em;}#sk-container-id-3 div.sk-estimator:hover {background-color: #d4ebff;}#sk-container-id-3 div.sk-parallel-item::after {content: \"\";width: 100%;border-bottom: 1px solid gray;flex-grow: 1;}#sk-container-id-3 div.sk-label:hover label.sk-toggleable__label {background-color: #d4ebff;}#sk-container-id-3 div.sk-serial::before {content: \"\";position: absolute;border-left: 1px solid gray;box-sizing: border-box;top: 0;bottom: 0;left: 50%;z-index: 0;}#sk-container-id-3 div.sk-serial {display: flex;flex-direction: column;align-items: center;background-color: white;padding-right: 0.2em;padding-left: 0.2em;position: relative;}#sk-container-id-3 div.sk-item {position: relative;z-index: 1;}#sk-container-id-3 div.sk-parallel {display: flex;align-items: stretch;justify-content: center;background-color: white;position: relative;}#sk-container-id-3 div.sk-item::before, #sk-container-id-3 div.sk-parallel-item::before {content: \"\";position: absolute;border-left: 1px solid gray;box-sizing: border-box;top: 0;bottom: 0;left: 50%;z-index: -1;}#sk-container-id-3 div.sk-parallel-item {display: flex;flex-direction: column;z-index: 1;position: relative;background-color: white;}#sk-container-id-3 div.sk-parallel-item:first-child::after {align-self: flex-end;width: 50%;}#sk-container-id-3 div.sk-parallel-item:last-child::after {align-self: flex-start;width: 50%;}#sk-container-id-3 div.sk-parallel-item:only-child::after {width: 0;}#sk-container-id-3 div.sk-dashed-wrapped {border: 1px dashed gray;margin: 0 0.4em 0.5em 0.4em;box-sizing: border-box;padding-bottom: 0.4em;background-color: white;}#sk-container-id-3 div.sk-label label {font-family: monospace;font-weight: bold;display: inline-block;line-height: 1.2em;}#sk-container-id-3 div.sk-label-container {text-align: center;}#sk-container-id-3 div.sk-container {/* jupyter's `normalize.less` sets `[hidden] { display: none; }` but bootstrap.min.css set `[hidden] { display: none !important; }` so we also need the `!important` here to be able to override the default hidden behavior on the sphinx rendered scikit-learn.org. See: https://github.com/scikit-learn/scikit-learn/issues/21755 */display: inline-block !important;position: relative;}#sk-container-id-3 div.sk-text-repr-fallback {display: none;}</style><div id=\"sk-container-id-3\" class=\"sk-top-container\"><div class=\"sk-text-repr-fallback\"><pre>DecisionTreeClassifier(max_depth=7, min_samples_leaf=3, min_samples_split=8)</pre><b>In a Jupyter environment, please rerun this cell to show the HTML representation or trust the notebook. <br />On GitHub, the HTML representation is unable to render, please try loading this page with nbviewer.org.</b></div><div class=\"sk-container\" hidden><div class=\"sk-item\"><div class=\"sk-estimator sk-toggleable\"><input class=\"sk-toggleable__control sk-hidden--visually\" id=\"sk-estimator-id-3\" type=\"checkbox\" checked><label for=\"sk-estimator-id-3\" class=\"sk-toggleable__label sk-toggleable__label-arrow\">DecisionTreeClassifier</label><div class=\"sk-toggleable__content\"><pre>DecisionTreeClassifier(max_depth=7, min_samples_leaf=3, min_samples_split=8)</pre></div></div></div></div></div>"
      ],
      "text/plain": [
       "DecisionTreeClassifier(max_depth=7, min_samples_leaf=3, min_samples_split=8)"
      ]
     },
     "execution_count": 58,
     "metadata": {},
     "output_type": "execute_result"
    }
   ],
   "source": [
    "from sklearn.tree import DecisionTreeClassifier,plot_tree\n",
    "from sklearn.model_selection import GridSearchCV\n",
    "import matplotlib.pyplot as plt\n",
    "\n",
    "param_grid = {\n",
    "    'criterion': ['gini', 'entropy'],\n",
    "    'max_depth': [3, 5, 7, 9],\n",
    "    'min_samples_split': [2, 4, 6, 8],\n",
    "    'min_samples_leaf': [1, 2, 3, 4]\n",
    "}\n",
    "model = DecisionTreeClassifier()\n",
    "grid_search = GridSearchCV(estimator=model, param_grid=param_grid, cv=5)\n",
    "grid_search.fit(x_train_standard, y_train)\n",
    "print(\"Best hyperparameters:\", grid_search.best_params_)\n",
    "best_dtc = DecisionTreeClassifier(**grid_search.best_params_)\n",
    "best_dtc.fit(x_train_standard, y_train)\n"
   ]
  },
  {
   "cell_type": "code",
   "execution_count": 59,
   "metadata": {},
   "outputs": [
    {
     "name": "stdout",
     "output_type": "stream",
     "text": [
      "0.8\n"
     ]
    }
   ],
   "source": [
    "from sklearn.metrics import accuracy_score,precision_score,f1_score,recall_score\n",
    "print(best_dtc.score(x_test_standard,y_test))\n"
   ]
  },
  {
   "cell_type": "code",
   "execution_count": 60,
   "metadata": {},
   "outputs": [
    {
     "name": "stdout",
     "output_type": "stream",
     "text": [
      "Predicted:\t\n",
      "MEDIUM\n"
     ]
    }
   ],
   "source": [
    "f = best_dtc.predict([x_test_standard[5,:]])\n",
    "print(\"Predicted:\\t\")\n",
    "if (f==0):\n",
    "    print(\"DIFFICULT\")\n",
    "if (f==1):\n",
    "    print(\"EASY\")\n",
    "if (f==2):\n",
    "    print(\"MEDIUM\")\n"
   ]
  },
  {
   "cell_type": "code",
   "execution_count": 61,
   "metadata": {},
   "outputs": [
    {
     "name": "stdout",
     "output_type": "stream",
     "text": [
      "MEDIUM\n"
     ]
    }
   ],
   "source": [
    "d= (y_test[5])\n",
    "if (d==0):\n",
    "    print(\"DIFFICULT\")\n",
    "if (d==1):\n",
    "    print(\"EASY\")\n",
    "if (d==2):\n",
    "    print(\"MEDIUM\")"
   ]
  },
  {
   "attachments": {},
   "cell_type": "markdown",
   "metadata": {},
   "source": [
    "logisticregression"
   ]
  },
  {
   "cell_type": "code",
   "execution_count": 62,
   "metadata": {},
   "outputs": [
    {
     "data": {
      "text/plain": [
       "array([2, 1, 1, 2, 2, 2, 2, 2, 2, 2])"
      ]
     },
     "execution_count": 62,
     "metadata": {},
     "output_type": "execute_result"
    }
   ],
   "source": [
    "from sklearn.linear_model import LogisticRegression\n",
    "model1 = LogisticRegression()\n",
    "model1.fit(x_train_standard,y_train)\n",
    "model1.predict(x_test_standard)"
   ]
  },
  {
   "cell_type": "code",
   "execution_count": 63,
   "metadata": {},
   "outputs": [
    {
     "name": "stdout",
     "output_type": "stream",
     "text": [
      "0.5\n"
     ]
    }
   ],
   "source": [
    "from sklearn.metrics import accuracy_score\n",
    "print(model1.score(x_test_standard,y_test))\n"
   ]
  },
  {
   "cell_type": "code",
   "execution_count": 64,
   "metadata": {},
   "outputs": [
    {
     "name": "stdout",
     "output_type": "stream",
     "text": [
      "Predicted:\t\n",
      "MEDIUM\n"
     ]
    }
   ],
   "source": [
    "f = model1.predict([x_test_standard[5,:]])\n",
    "print(\"Predicted:\\t\")\n",
    "if (f==0):\n",
    "    print(\"DIFFICULT\")\n",
    "if (f==1):\n",
    "    print(\"EASY\")\n",
    "if (f==2):\n",
    "    print(\"MEDIUM\")\n"
   ]
  },
  {
   "cell_type": "code",
   "execution_count": 65,
   "metadata": {},
   "outputs": [
    {
     "name": "stdout",
     "output_type": "stream",
     "text": [
      "MEDIUM\n"
     ]
    }
   ],
   "source": [
    "d= (y_test[5])\n",
    "if (d==0):\n",
    "    print(\"DIFFICULT\")\n",
    "if (d==1):\n",
    "    print(\"EASY\")\n",
    "if (d==2):\n",
    "    print(\"MEDIUM\")"
   ]
  },
  {
   "attachments": {},
   "cell_type": "markdown",
   "metadata": {},
   "source": [
    "NEURAL NETWORK(MLP)"
   ]
  },
  {
   "cell_type": "code",
   "execution_count": 66,
   "metadata": {},
   "outputs": [
    {
     "data": {
      "text/plain": [
       "array([0, 1, 1, 2, 0, 0, 1, 0, 1, 0])"
      ]
     },
     "execution_count": 66,
     "metadata": {},
     "output_type": "execute_result"
    }
   ],
   "source": [
    "from sklearn.neural_network import MLPClassifier\n",
    "model3 = MLPClassifier()\n",
    "model3.fit(x_train_standard,y_train)\n",
    "model3.predict(x_test_standard)\n"
   ]
  },
  {
   "cell_type": "code",
   "execution_count": 67,
   "metadata": {},
   "outputs": [
    {
     "name": "stdout",
     "output_type": "stream",
     "text": [
      "0.5\n"
     ]
    }
   ],
   "source": [
    "from sklearn.metrics import accuracy_score\n",
    "print(model3.score(x_test_standard,y_test))"
   ]
  },
  {
   "cell_type": "code",
   "execution_count": 68,
   "metadata": {},
   "outputs": [
    {
     "name": "stdout",
     "output_type": "stream",
     "text": [
      "[0]\n",
      "Predicted:\t\n",
      "DIFFICULT\n"
     ]
    }
   ],
   "source": [
    "f = model3.predict([x_test_standard[7,:]])\n",
    "print(f)\n",
    "print(\"Predicted:\\t\")\n",
    "if (f==0):\n",
    "    print(\"DIFFICULT\")\n",
    "if (f==1):\n",
    "    print(\"EASY\")\n",
    "if (f==2):\n",
    "    print(\"MEDIUM\")\n"
   ]
  },
  {
   "cell_type": "code",
   "execution_count": 69,
   "metadata": {},
   "outputs": [
    {
     "name": "stdout",
     "output_type": "stream",
     "text": [
      "0\n",
      "DIFFICULT\n"
     ]
    }
   ],
   "source": [
    "d= (y_test[7])\n",
    "print(d)\n",
    "if (d==0):\n",
    "    print(\"DIFFICULT\")\n",
    "if (d==1):\n",
    "    print(\"EASY\")\n",
    "if (d==2):\n",
    "    print(\"MEDIUM\")"
   ]
  },
  {
   "attachments": {},
   "cell_type": "markdown",
   "metadata": {},
   "source": [
    "RANDOMFOREST"
   ]
  },
  {
   "cell_type": "code",
   "execution_count": 70,
   "metadata": {},
   "outputs": [
    {
     "data": {
      "text/plain": [
       "array([0, 1, 1, 1, 2, 2, 2, 0, 2, 0])"
      ]
     },
     "execution_count": 70,
     "metadata": {},
     "output_type": "execute_result"
    }
   ],
   "source": [
    "from sklearn.ensemble import RandomForestClassifier\n",
    "model4 = RandomForestClassifier()\n",
    "model4.fit(x_train_standard,y_train)\n",
    "model4.predict(x_test_standard)"
   ]
  },
  {
   "cell_type": "code",
   "execution_count": 71,
   "metadata": {},
   "outputs": [
    {
     "name": "stdout",
     "output_type": "stream",
     "text": [
      "0.9\n"
     ]
    }
   ],
   "source": [
    "from sklearn.metrics import accuracy_score\n",
    "print(model4.score(x_test_standard,y_test))\n"
   ]
  },
  {
   "cell_type": "code",
   "execution_count": 72,
   "metadata": {},
   "outputs": [
    {
     "name": "stdout",
     "output_type": "stream",
     "text": [
      "[0]\n",
      "Predicted:\t\n",
      "DIFFICULT\n"
     ]
    }
   ],
   "source": [
    "f = model4.predict([x_test_standard[7,:]])\n",
    "print(f)\n",
    "print(\"Predicted:\\t\")\n",
    "if (f==0):\n",
    "    print(\"DIFFICULT\")\n",
    "if (f==1):\n",
    "    print(\"EASY\")\n",
    "if (f==2):\n",
    "    print(\"MEDIUM\")\n"
   ]
  },
  {
   "cell_type": "code",
   "execution_count": 73,
   "metadata": {},
   "outputs": [
    {
     "name": "stdout",
     "output_type": "stream",
     "text": [
      "0\n",
      "DIFFICULT\n"
     ]
    }
   ],
   "source": [
    "d= (y_test[7])\n",
    "print(d)\n",
    "if (d==0):\n",
    "    print(\"DIFFICULT\")\n",
    "if (d==1):\n",
    "    print(\"EASY\")\n",
    "if (d==2):\n",
    "    print(\"MEDIUM\")"
   ]
  },
  {
   "cell_type": "code",
   "execution_count": 74,
   "metadata": {},
   "outputs": [
    {
     "name": "stdout",
     "output_type": "stream",
     "text": [
      "0.5\n"
     ]
    }
   ],
   "source": [
    "from sklearn import svm\n",
    "svmclf = svm.SVC()\n",
    "svmclf.fit(x_train_standard, y_train)\n",
    "svmclf.predict(x_test_standard)\n",
    "from sklearn.metrics import accuracy_score\n",
    "print(svmclf.score(x_test_standard,y_test))"
   ]
  },
  {
   "cell_type": "code",
   "execution_count": 75,
   "metadata": {},
   "outputs": [
    {
     "name": "stdout",
     "output_type": "stream",
     "text": [
      "[2]\n",
      "Predicted:\t\n",
      "MEDIUM\n"
     ]
    }
   ],
   "source": [
    "f = svmclf.predict([x_test_standard[8,:]])\n",
    "print(f)\n",
    "print(\"Predicted:\\t\")\n",
    "if (f==0):\n",
    "    print(\"DIFFICULT\")\n",
    "if (f==1):\n",
    "    print(\"EASY\")\n",
    "if (f==2):\n",
    "    print(\"MEDIUM\")\n"
   ]
  },
  {
   "cell_type": "code",
   "execution_count": 76,
   "metadata": {},
   "outputs": [
    {
     "name": "stdout",
     "output_type": "stream",
     "text": [
      "2\n",
      "MEDIUM\n"
     ]
    }
   ],
   "source": [
    "d= (y_test[8])\n",
    "print(d)\n",
    "if (d==0):\n",
    "    print(\"DIFFICULT\")\n",
    "if (d==1):\n",
    "    print(\"EASY\")\n",
    "if (d==2):\n",
    "    print(\"MEDIUM\")"
   ]
  }
 ],
 "metadata": {
  "kernelspec": {
   "display_name": "base",
   "language": "python",
   "name": "python3"
  },
  "language_info": {
   "codemirror_mode": {
    "name": "ipython",
    "version": 3
   },
   "file_extension": ".py",
   "mimetype": "text/x-python",
   "name": "python",
   "nbconvert_exporter": "python",
   "pygments_lexer": "ipython3",
   "version": "3.9.13"
  },
  "orig_nbformat": 4
 },
 "nbformat": 4,
 "nbformat_minor": 2
}

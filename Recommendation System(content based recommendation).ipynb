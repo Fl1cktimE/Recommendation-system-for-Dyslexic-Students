{
 "cells": [
  {
   "cell_type": "code",
   "execution_count": 3,
   "id": "c91d4bd1",
   "metadata": {},
   "outputs": [],
   "source": [
    "import pandas as pd\n",
    "import numpy as np\n",
    "from sklearn.feature_extraction.text import TfidfVectorizer\n",
    "from sklearn.metrics.pairwise import linear_kernel\n"
   ]
  },
  {
   "cell_type": "code",
   "execution_count": 4,
   "id": "d0fb8d35",
   "metadata": {},
   "outputs": [
    {
     "data": {
      "text/html": [
       "<div>\n",
       "<style scoped>\n",
       "    .dataframe tbody tr th:only-of-type {\n",
       "        vertical-align: middle;\n",
       "    }\n",
       "\n",
       "    .dataframe tbody tr th {\n",
       "        vertical-align: top;\n",
       "    }\n",
       "\n",
       "    .dataframe thead th {\n",
       "        text-align: right;\n",
       "    }\n",
       "</style>\n",
       "<table border=\"1\" class=\"dataframe\">\n",
       "  <thead>\n",
       "    <tr style=\"text-align: right;\">\n",
       "      <th></th>\n",
       "      <th>noOfAlphabetes</th>\n",
       "      <th>difficulties</th>\n",
       "      <th>description</th>\n",
       "      <th>complexity</th>\n",
       "      <th>chapter</th>\n",
       "    </tr>\n",
       "  </thead>\n",
       "  <tbody>\n",
       "    <tr>\n",
       "      <th>0</th>\n",
       "      <td>3</td>\n",
       "      <td>easy</td>\n",
       "      <td>uyir yeluthukal easy letters and lies at level...</td>\n",
       "      <td>level1</td>\n",
       "      <td>ch1 - Basic First 3 letters</td>\n",
       "    </tr>\n",
       "    <tr>\n",
       "      <th>1</th>\n",
       "      <td>3</td>\n",
       "      <td>easy</td>\n",
       "      <td>uyir yeluthukal easy letters and lies at level...</td>\n",
       "      <td>level2</td>\n",
       "      <td>ch2 - Basic next three letters</td>\n",
       "    </tr>\n",
       "    <tr>\n",
       "      <th>2</th>\n",
       "      <td>3</td>\n",
       "      <td>easy</td>\n",
       "      <td>uyir yeluthukal easy letters and smallwords li...</td>\n",
       "      <td>level3</td>\n",
       "      <td>ch3 - Words with 3 letters</td>\n",
       "    </tr>\n",
       "    <tr>\n",
       "      <th>3</th>\n",
       "      <td>6</td>\n",
       "      <td>easy</td>\n",
       "      <td>uyir yeluthukal easy letters and lies at level...</td>\n",
       "      <td>level1</td>\n",
       "      <td>ch4 - Basic First 6 Letters</td>\n",
       "    </tr>\n",
       "    <tr>\n",
       "      <th>4</th>\n",
       "      <td>6</td>\n",
       "      <td>easy</td>\n",
       "      <td>uyir yeluthukal easy letters and lies at level...</td>\n",
       "      <td>level2</td>\n",
       "      <td>ch5 - Basic 6 letters</td>\n",
       "    </tr>\n",
       "  </tbody>\n",
       "</table>\n",
       "</div>"
      ],
      "text/plain": [
       "   noOfAlphabetes difficulties  \\\n",
       "0               3         easy   \n",
       "1               3         easy   \n",
       "2               3         easy   \n",
       "3               6         easy   \n",
       "4               6         easy   \n",
       "\n",
       "                                         description complexity  \\\n",
       "0  uyir yeluthukal easy letters and lies at level...     level1   \n",
       "1  uyir yeluthukal easy letters and lies at level...     level2   \n",
       "2  uyir yeluthukal easy letters and smallwords li...     level3   \n",
       "3  uyir yeluthukal easy letters and lies at level...     level1   \n",
       "4  uyir yeluthukal easy letters and lies at level...     level2   \n",
       "\n",
       "                          chapter  \n",
       "0    ch1 - Basic First 3 letters   \n",
       "1  ch2 - Basic next three letters  \n",
       "2      ch3 - Words with 3 letters  \n",
       "3     ch4 - Basic First 6 Letters  \n",
       "4           ch5 - Basic 6 letters  "
      ]
     },
     "execution_count": 4,
     "metadata": {},
     "output_type": "execute_result"
    }
   ],
   "source": [
    "df2 = pd.read_csv(\"finaldataset.csv\")\n",
    "df2.head()"
   ]
  },
  {
   "cell_type": "code",
   "execution_count": 5,
   "id": "69f91160",
   "metadata": {},
   "outputs": [],
   "source": [
    "tfidf = TfidfVectorizer(stop_words = \"english\")\n",
    "df2[\"description\"] = df2[\"description\"].fillna(\"\")\n",
    "tfidf_matrix = tfidf.fit_transform(df2[\"description\"])"
   ]
  },
  {
   "cell_type": "code",
   "execution_count": 7,
   "id": "f0b292a4",
   "metadata": {},
   "outputs": [],
   "source": [
    "cosine_sim = linear_kernel(tfidf_matrix,tfidf_matrix)"
   ]
  },
  {
   "cell_type": "code",
   "execution_count": 8,
   "id": "80b26aba",
   "metadata": {},
   "outputs": [
    {
     "data": {
      "text/plain": [
       "chapter\n",
       "ch1 - Basic First 3 letters                0\n",
       "ch2 - Basic next three letters             1\n",
       "ch3 - Words with 3 letters                 2\n",
       "ch4 - Basic First 6 Letters                3\n",
       "ch5 - Basic 6 letters                      4\n",
       "ch6 - words with 6 letters                 5\n",
       "ch7 - Basic 10 letters                     6\n",
       "ch8 - Advance Basic 10 letter              7\n",
       "ch9 - Small words with basic 10 letter     8\n",
       "ch10 - Basic letters with jumple           9\n",
       "ch11 - Basic jumple letter part2          10\n",
       "ch12 - Words with 3 letters               11\n",
       "ch13 - Jumple 6 letters                   12\n",
       "ch14 - Jumple 6 letters part2             13\n",
       "ch15 - Words formed by 6 letters          14\n",
       "ch16 - Jumple 10 letters (fast)           15\n",
       "ch17 - Jumple 10 letters (fast) part2     16\n",
       "ch18 - real words part1                   17\n",
       "ch19 - creative letter part1              18\n",
       "ch20 - creative, letter part2             19\n",
       "ch21 - real word part2                    20\n",
       "ch22 - creative letter part3              21\n",
       "ch23 - creative letter part4              22\n",
       "ch24 - real word part3                    23\n",
       "ch25 - Advance letter part1               24\n",
       "ch26 - Advance letter part2               25\n",
       "ch27 - real word part4                    26\n",
       "dtype: int64"
      ]
     },
     "execution_count": 8,
     "metadata": {},
     "output_type": "execute_result"
    }
   ],
   "source": [
    "ind = pd.Series(df2.index,index=df2[\"chapter\"]).drop_duplicates()\n",
    "ind"
   ]
  },
  {
   "cell_type": "code",
   "execution_count": 9,
   "id": "40f9f6fe",
   "metadata": {},
   "outputs": [
    {
     "name": "stdout",
     "output_type": "stream",
     "text": [
      "(21, 0.6973289080969611)\n",
      "(24, 0.6666519430263965)\n",
      "(19, 0.46836720732869125)\n",
      "(22, 0.46836720732869125)\n",
      "(9, 0.44975552951332637)\n",
      "(25, 0.44667824951111085)\n",
      "(12, 0.38041960912319367)\n",
      "(0, 0.3778140733076994)\n",
      "(16, 0.31372734709115957)\n",
      "(3, 0.3126285458929798)\n",
      "21             ch22 - creative letter part3\n",
      "24              ch25 - Advance letter part1\n",
      "19            ch20 - creative, letter part2\n",
      "22             ch23 - creative letter part4\n",
      "9          ch10 - Basic letters with jumple\n",
      "25              ch26 - Advance letter part2\n",
      "12                  ch13 - Jumple 6 letters\n",
      "0              ch1 - Basic First 3 letters \n",
      "16    ch17 - Jumple 10 letters (fast) part2\n",
      "3               ch4 - Basic First 6 Letters\n",
      "Name: chapter, dtype: object\n"
     ]
    }
   ],
   "source": [
    "def get_recommendation(title,cosine_sim = cosine_sim):\n",
    "    it = ind[title]\n",
    "    sim_score = enumerate(cosine_sim[it])\n",
    "    sim_score = sorted(sim_score, key=lambda x:x[1],reverse=True)\n",
    "    sim_score = sim_score[1:11]\n",
    "    for i in sim_score:\n",
    "        print(i)\n",
    "    sim_index = [i[0] for i in sim_score]\n",
    "    print(df2[\"chapter\"].iloc[sim_index])\n",
    "get_recommendation('ch19 - creative letter part1') "
   ]
  },
  {
   "cell_type": "code",
   "execution_count": 10,
   "id": "1c067fb7",
   "metadata": {},
   "outputs": [],
   "source": [
    "import pickle"
   ]
  },
  {
   "cell_type": "code",
   "execution_count": 15,
   "id": "032abe04",
   "metadata": {},
   "outputs": [],
   "source": [
    "with open('confusionmatr.pickle', 'ab') as f:\n",
    "    pickle.dump(cosine_sim, f)"
   ]
  },
  {
   "cell_type": "code",
   "execution_count": 19,
   "id": "bbbeb371",
   "metadata": {},
   "outputs": [],
   "source": [
    "with open('ind.pickle', 'ab') as f:\n",
    "    pickle.dump(ind, f)                     \n"
   ]
  },
  {
   "cell_type": "code",
   "execution_count": null,
   "id": "3e2c777e",
   "metadata": {},
   "outputs": [],
   "source": []
  }
 ],
 "metadata": {
  "kernelspec": {
   "display_name": "Python 3 (ipykernel)",
   "language": "python",
   "name": "python3"
  },
  "language_info": {
   "codemirror_mode": {
    "name": "ipython",
    "version": 3
   },
   "file_extension": ".py",
   "mimetype": "text/x-python",
   "name": "python",
   "nbconvert_exporter": "python",
   "pygments_lexer": "ipython3",
   "version": "3.9.13"
  }
 },
 "nbformat": 4,
 "nbformat_minor": 5
}
